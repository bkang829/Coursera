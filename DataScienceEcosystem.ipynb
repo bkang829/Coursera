{
 "cells": [
  {
   "cell_type": "markdown",
   "id": "de9e8981-203b-43db-89e4-e26b0d8ce82f",
   "metadata": {},
   "source": [
    "# Date Science Tools and Ecosystem"
   ]
  },
  {
   "cell_type": "markdown",
   "id": "d1faecff-59e3-4aa8-b97f-516071355fed",
   "metadata": {},
   "source": [
    "In this notebook, Data Science Tools and Ecosystem are summarized."
   ]
  },
  {
   "cell_type": "markdown",
   "id": "92038b3f-720c-4a0e-b106-153e79e10583",
   "metadata": {},
   "source": [
    "Some of the popular languages that Data Scientists use are:\n",
    "1. Python\n",
    "2. SQL\n",
    "3. R"
   ]
  },
  {
   "cell_type": "markdown",
   "id": "18bf7948-dc4b-4b4b-bf46-22fb097ad693",
   "metadata": {},
   "source": [
    "**Objectives:**"
   ]
  },
  {
   "cell_type": "markdown",
   "id": "fa8828eb-878b-4b90-bd27-fd03c6610a2f",
   "metadata": {},
   "source": [
    "* List of popular data science languages\n",
    "* List of commonly used data science libraries\n",
    "* Examples of arithmetic expressions in Python"
   ]
  },
  {
   "cell_type": "markdown",
   "id": "b4d5f471-2569-45ee-84e1-1e0ba64c5e49",
   "metadata": {},
   "source": [
    "Some of the commonly used libraries used by Data Scientists include:\n",
    "1. NumPy\n",
    "2. Pandas\n",
    "3. SciPy"
   ]
  },
  {
   "cell_type": "markdown",
   "id": "ef1a3c4f-84a8-4f93-90a9-5ffbb95d0d6e",
   "metadata": {},
   "source": [
    "| Data Science Tools|\n",
    "| --- |\n",
    "| RStudio\n",
    "| Apache Spark |\n",
    "| Tensorflow |"
   ]
  },
  {
   "cell_type": "markdown",
   "id": "5d7b01c5-873c-4ed4-98c5-71f0bd165004",
   "metadata": {},
   "source": [
    "### Below are a few examples of evaluating arithmetic expressions in Python"
   ]
  },
  {
   "cell_type": "code",
   "execution_count": 2,
   "id": "3973e292-55b5-4a06-b45e-39260e5d9771",
   "metadata": {},
   "outputs": [
    {
     "data": {
      "text/plain": [
       "17"
      ]
     },
     "execution_count": 2,
     "metadata": {},
     "output_type": "execute_result"
    }
   ],
   "source": [
    "(3*4)+5"
   ]
  },
  {
   "cell_type": "markdown",
   "id": "449cb954-5c48-40a5-8ee1-1e96259ee969",
   "metadata": {},
   "source": [
    "This a simple arithmetic expression to mutiply then add integers"
   ]
  },
  {
   "cell_type": "code",
   "execution_count": 6,
   "id": "006b113a-578e-4544-bb0d-da0db27c98a9",
   "metadata": {},
   "outputs": [
    {
     "data": {
      "text/plain": [
       "3.3333333333333335"
      ]
     },
     "execution_count": 6,
     "metadata": {},
     "output_type": "execute_result"
    }
   ],
   "source": [
    "(200/60)"
   ]
  },
  {
   "cell_type": "markdown",
   "id": "5e5d3213-608b-4b54-b953-8f12b86f31b8",
   "metadata": {},
   "source": [
    "This will convert 200 minutes to hours by diving by 60"
   ]
  },
  {
   "cell_type": "markdown",
   "id": "29d96a80-2648-401e-809e-6fc6aee424c5",
   "metadata": {},
   "source": [
    "## Author"
   ]
  },
  {
   "cell_type": "markdown",
   "id": "fd55c807-95d1-408c-9c54-9b0c1f05e6c4",
   "metadata": {},
   "source": [
    "Bryan Kang"
   ]
  }
 ],
 "metadata": {
  "kernelspec": {
   "display_name": "Python 3 (ipykernel)",
   "language": "python",
   "name": "python3"
  },
  "language_info": {
   "codemirror_mode": {
    "name": "ipython",
    "version": 3
   },
   "file_extension": ".py",
   "mimetype": "text/x-python",
   "name": "python",
   "nbconvert_exporter": "python",
   "pygments_lexer": "ipython3",
   "version": "3.12.8"
  }
 },
 "nbformat": 4,
 "nbformat_minor": 5
}
